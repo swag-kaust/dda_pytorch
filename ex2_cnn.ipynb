{
 "cells": [
  {
   "cell_type": "markdown",
   "id": "c8a36577",
   "metadata": {},
   "source": [
    "# Example 2. CNN\n",
    "\n",
    "*[Tariq Alkhalifah](https://sites.google.com/a/kaust.edu.sa/tariq/home) and [Oleg Ovcharenko](https://ovcharenkoo.com/), 2021. \"Direct domain adaptation through mutual linear transformations\"*\n",
    "\n",
    "-------\n",
    "This code is modified from [https://github.com/fungtion/DANN_py3](https://github.com/fungtion/DANN_py3). "
   ]
  },
  {
   "cell_type": "code",
   "execution_count": 1,
   "id": "cd01a416",
   "metadata": {},
   "outputs": [],
   "source": [
    "import os\n",
    "import sys\n",
    "import random\n",
    "import numpy as np\n",
    "\n",
    "import torch.backends.cudnn as cudnn\n",
    "import torch.optim as optim\n",
    "import torch.nn as nn\n",
    "import torch.utils.data\n",
    "from torchvision import datasets\n",
    "from torchvision import transforms\n",
    "\n",
    "from components.data_loader import GetLoader\n",
    "from components.model import CNNModel\n",
    "from components.test import test\n",
    "import components.shared as sd"
   ]
  },
  {
   "cell_type": "code",
   "execution_count": 2,
   "id": "bf6cb41a",
   "metadata": {},
   "outputs": [],
   "source": [
    "# os.environ[\"CUDA_VISIBLE_DEVICES\"] = \"1\""
   ]
  },
  {
   "cell_type": "markdown",
   "id": "98452ecd",
   "metadata": {},
   "source": [
    "### Init paths"
   ]
  },
  {
   "cell_type": "code",
   "execution_count": 3,
   "id": "cf6fabb7",
   "metadata": {},
   "outputs": [],
   "source": [
    "# Paths to datasets\n",
    "source_dataset_name = 'MNIST'\n",
    "target_dataset_name = 'mnist_m'\n",
    "source_image_root = os.path.join('dataset', source_dataset_name)\n",
    "target_image_root = os.path.join('dataset', target_dataset_name)\n",
    "os.makedirs('./dataset', exist_ok=True)\n",
    "\n",
    "# Where to save outputs\n",
    "model_root = './out_ex2_cnn'\n",
    "os.makedirs(model_root, exist_ok=True)"
   ]
  },
  {
   "cell_type": "markdown",
   "id": "0052a1dd",
   "metadata": {},
   "source": [
    "### Init training"
   ]
  },
  {
   "cell_type": "code",
   "execution_count": 4,
   "id": "43ab3ddd",
   "metadata": {},
   "outputs": [
    {
     "name": "stdout",
     "output_type": "stream",
     "text": [
      "Random seed: 222\n"
     ]
    }
   ],
   "source": [
    "cuda = True\n",
    "cudnn.benchmark = True\n",
    "\n",
    "# Hyperparameters\n",
    "lr = 1e-3\n",
    "batch_size = 128\n",
    "image_size = 28\n",
    "n_epoch = 100\n",
    "\n",
    "# manual_seed = random.randint(1, 10000)\n",
    "manual_seed = 222\n",
    "random.seed(manual_seed)\n",
    "torch.manual_seed(manual_seed)\n",
    "print(f'Random seed: {manual_seed}')"
   ]
  },
  {
   "cell_type": "markdown",
   "id": "f4d045da",
   "metadata": {},
   "source": [
    "### Data"
   ]
  },
  {
   "cell_type": "code",
   "execution_count": 5,
   "id": "0d6ff2c2",
   "metadata": {},
   "outputs": [],
   "source": [
    "# Transformations / augmentations\n",
    "img_transform_source = transforms.Compose([\n",
    "    transforms.Resize(image_size),\n",
    "    transforms.ToTensor(),\n",
    "    transforms.Normalize(mean=(0.1307,), std=(0.3081,))\n",
    "])\n",
    "\n",
    "img_transform_target = transforms.Compose([\n",
    "    transforms.Resize(image_size),\n",
    "    transforms.ToTensor(),\n",
    "    transforms.Normalize(mean=(0.5, 0.5, 0.5), std=(0.5, 0.5, 0.5))\n",
    "])\n",
    "\n",
    "# Load MNIST dataset\n",
    "dataset_source = datasets.MNIST(\n",
    "    root='dataset',\n",
    "    train=True,\n",
    "    transform=img_transform_source,\n",
    "    download=True\n",
    ")\n",
    "\n",
    "# Load MNIST-M dataset\n",
    "train_list = os.path.join(target_image_root, 'mnist_m_train_labels.txt')\n",
    "dataset_target = GetLoader(\n",
    "    data_root=os.path.join(target_image_root, 'mnist_m_train'),\n",
    "    data_list=train_list,\n",
    "    transform=img_transform_target\n",
    ")\n",
    "\n",
    "# Init dataloaders\n",
    "dataloader_source = torch.utils.data.DataLoader(\n",
    "    dataset=dataset_source,\n",
    "    batch_size=batch_size,\n",
    "    shuffle=True,\n",
    "    num_workers=8)\n",
    "\n",
    "dataloader_target = torch.utils.data.DataLoader(\n",
    "    dataset=dataset_target,\n",
    "    batch_size=batch_size,\n",
    "    shuffle=True,\n",
    "    num_workers=8)"
   ]
  },
  {
   "cell_type": "markdown",
   "id": "d83a9835",
   "metadata": {},
   "source": [
    "### Network\n",
    "\n",
    "Extracted from the DANN architecture defined in `ex1_dann.ipynb`"
   ]
  },
  {
   "cell_type": "code",
   "execution_count": 6,
   "id": "12e2de3b",
   "metadata": {},
   "outputs": [],
   "source": [
    "class CNNModel(nn.Module):\n",
    "    def __init__(self):\n",
    "        super(CNNModel, self).__init__()\n",
    "        self.feature = nn.Sequential()\n",
    "        self.feature.add_module('f_conv1', nn.Conv2d(3, 64, kernel_size=5))\n",
    "        self.feature.add_module('f_bn1', nn.BatchNorm2d(64))\n",
    "        self.feature.add_module('f_pool1', nn.MaxPool2d(2))\n",
    "        self.feature.add_module('f_relu1', nn.ReLU(True))\n",
    "        self.feature.add_module('f_conv2', nn.Conv2d(64, 50, kernel_size=5))\n",
    "        self.feature.add_module('f_bn2', nn.BatchNorm2d(50))\n",
    "        self.feature.add_module('f_drop1', nn.Dropout2d())\n",
    "        self.feature.add_module('f_pool2', nn.MaxPool2d(2))\n",
    "        self.feature.add_module('f_relu2', nn.ReLU(True))\n",
    "\n",
    "        self.class_classifier = nn.Sequential()\n",
    "        self.class_classifier.add_module('c_fc1', nn.Linear(50 * 4 * 4, 100))\n",
    "        self.class_classifier.add_module('c_bn1', nn.BatchNorm1d(100))\n",
    "        self.class_classifier.add_module('c_relu1', nn.ReLU(True))\n",
    "        self.class_classifier.add_module('c_drop1', nn.Dropout())\n",
    "        self.class_classifier.add_module('c_fc2', nn.Linear(100, 100))\n",
    "        self.class_classifier.add_module('c_bn2', nn.BatchNorm1d(100))\n",
    "        self.class_classifier.add_module('c_relu2', nn.ReLU(True))\n",
    "        self.class_classifier.add_module('c_fc3', nn.Linear(100, 10))\n",
    "        self.class_classifier.add_module('c_softmax', nn.LogSoftmax(dim=1))\n",
    "\n",
    "    def forward(self, input_data):\n",
    "        input_data = input_data.expand(input_data.data.shape[0], 3, 28, 28)\n",
    "        feature = self.feature(input_data)\n",
    "        feature = feature.view(-1, 50 * 4 * 4)\n",
    "\n",
    "        class_output = self.class_classifier(feature)\n",
    "        \n",
    "        # Keep the dummy output `0` for domain classifiction. Only to keep the \n",
    "        # dims of output data used in test.py\n",
    "        return class_output, 0\n",
    "    \n",
    "#         return class_output\n",
    "# from torchsummary import summary\n",
    "# summary(CNNModel().cuda(), (3, 28, 28))"
   ]
  },
  {
   "cell_type": "code",
   "execution_count": 7,
   "id": "79302dec",
   "metadata": {},
   "outputs": [],
   "source": [
    "# Init network\n",
    "my_net = CNNModel()\n",
    "\n",
    "# Optimizer\n",
    "optimizer = optim.Adam(my_net.parameters(), lr=lr)\n",
    "\n",
    "# Losses\n",
    "loss_class = torch.nn.NLLLoss()\n",
    "loss_domain = torch.nn.NLLLoss()\n",
    "\n",
    "if cuda:\n",
    "    my_net = my_net.cuda()\n",
    "    loss_class = loss_class.cuda()\n",
    "    loss_domain = loss_domain.cuda()\n",
    "\n",
    "for p in my_net.parameters():\n",
    "    p.requires_grad = True"
   ]
  },
  {
   "cell_type": "code",
   "execution_count": 8,
   "id": "2ba3705c",
   "metadata": {},
   "outputs": [],
   "source": [
    "# Record losses for each epoch (used in compare.ipynb)\n",
    "losses = {'test': {'acc_bw': [], 'acc_color': []}}\n",
    "name_losses = 'losses.pkl'"
   ]
  },
  {
   "cell_type": "markdown",
   "id": "d3f254b4",
   "metadata": {},
   "source": [
    "### Training"
   ]
  },
  {
   "cell_type": "code",
   "execution_count": 9,
   "id": "1978205a",
   "metadata": {},
   "outputs": [
    {
     "name": "stdout",
     "output_type": "stream",
     "text": [
      "Losses from previous run found!\n",
      "Load dict from ./out_ex2_cnn/losses.pkl\n"
     ]
    },
    {
     "data": {
      "image/png": "[encoded data removed]",
      "text/plain": [
       "<Figure size 360x360 with 1 Axes>"
      ]
     },
     "metadata": {
      "needs_background": "light"
     },
     "output_type": "display_data"
    }
   ],
   "source": [
    "# training\n",
    "if not name_losses in os.listdir(model_root):\n",
    "# if True:\n",
    "    best_accu_t = 0.0\n",
    "    for epoch in range(n_epoch):\n",
    "\n",
    "        len_dataloader = min(len(dataloader_source), len(dataloader_target))\n",
    "        data_source_iter = iter(dataloader_source)\n",
    "        data_target_iter = iter(dataloader_target)\n",
    "\n",
    "        for i in range(len_dataloader):\n",
    "\n",
    "            p = float(i + epoch * len_dataloader) / n_epoch / len_dataloader\n",
    "            alpha = 2. / (1. + np.exp(-10 * p)) - 1\n",
    "\n",
    "            # training model using source data\n",
    "            data_source = data_source_iter.next()\n",
    "            s_img, s_label = data_source\n",
    "\n",
    "            my_net.zero_grad()\n",
    "            batch_size = len(s_label)\n",
    "\n",
    "            if cuda:\n",
    "                s_img = s_img.cuda()\n",
    "                s_label = s_label.cuda()\n",
    "\n",
    "\n",
    "            class_output, _ = my_net(input_data=s_img, alpha=alpha)\n",
    "            err_s_label = loss_class(class_output, s_label)\n",
    "\n",
    "            err = err_s_label\n",
    "            err.backward()\n",
    "            optimizer.step()\n",
    "\n",
    "            sys.stdout.write('\\r epoch: %d, [iter: %d / all %d], err_s_label: %f' \\\n",
    "                  % (epoch, i + 1, len_dataloader, err_s_label.data.cpu().numpy()))\n",
    "            sys.stdout.flush()\n",
    "            torch.save(my_net, '{0}/mnist_mnistm_model_epoch_current.pth'.format(model_root))\n",
    "\n",
    "        print('\\n')\n",
    "        accu_s = test(source_dataset_name, model_root)\n",
    "        print('Accuracy of the %s dataset: %f' % ('mnist', accu_s))\n",
    "        accu_t = test(target_dataset_name, model_root)\n",
    "        print('Accuracy of the %s dataset: %f\\n' % ('mnist_m', accu_t))\n",
    "        \n",
    "        losses['test']['acc_bw'].append(accu_s)\n",
    "        losses['test']['acc_color'].append(accu_t)\n",
    "\n",
    "        if accu_t > best_accu_t:\n",
    "            best_accu_s = accu_s\n",
    "            best_accu_t = accu_t\n",
    "            torch.save(my_net, '{0}/mnist_mnistm_model_epoch_best.pth'.format(model_root))\n",
    "\n",
    "    print('============ Summary ============= \\n')\n",
    "    print('Accuracy of the %s dataset: %f' % ('mnist', best_accu_s))\n",
    "    print('Accuracy of the %s dataset: %f' % ('mnist_m', best_accu_t))\n",
    "    print('Corresponding model was save in ' + model_root + '/mnist_mnistm_model_epoch_best.pth')\n",
    "    sd.save_dict(os.path.join(model_root, 'losses.pkl'), losses)\n",
    "else:\n",
    "    path_losses = os.path.join(model_root, name_losses)\n",
    "    print(f'Losses from previous run found!')\n",
    "    losses = sd.load_dict(path_losses)\n",
    "    sd.plot_curves(losses)"
   ]
  },
  {
   "cell_type": "code",
   "execution_count": 10,
   "id": "0ee42589",
   "metadata": {},
   "outputs": [
    {
     "name": "stdout",
     "output_type": "stream",
     "text": [
      "============ Summary ============= \n",
      "\n",
      "Accuracy of the mnist dataset: 0.995500\n",
      "Accuracy of the mnist_m dataset: 0.343740\n",
      "Corresponding model was saved into ./out_ex2_cnn/mnist_mnistm_model_epoch_best.pth\n"
     ]
    }
   ],
   "source": [
    "print('============ Summary ============= \\n')\n",
    "print('Accuracy of the %s dataset: %f' % ('mnist', max(losses['test']['acc_bw'])))\n",
    "print('Accuracy of the %s dataset: %f' % ('mnist_m', max(losses['test']['acc_color'])))\n",
    "print('Corresponding model was saved into ' + model_root + '/mnist_mnistm_model_epoch_best.pth')"
   ]
  }
 ],
 "metadata": {
  "kernelspec": {
   "display_name": "Python 3",
   "language": "python",
   "name": "python3"
  },
  "language_info": {
   "codemirror_mode": {
    "name": "ipython",
    "version": 3
   },
   "file_extension": ".py",
   "mimetype": "text/x-python",
   "name": "python",
   "nbconvert_exporter": "python",
   "pygments_lexer": "ipython3",
   "version": "3.8.3"
  }
 },
 "nbformat": 4,
 "nbformat_minor": 5
}
