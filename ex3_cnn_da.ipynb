{
 "cells": [
  {
   "cell_type": "markdown",
   "id": "c8a36577",
   "metadata": {},
   "source": [
    "# Example 3. CNN + DDA\n",
    "\n",
    "*[Tariq Alkhalifah](https://sites.google.com/a/kaust.edu.sa/tariq/home) and [Oleg Ovcharenko](https://ovcharenkoo.com/), 2021. \"Direct domain adaptation through mutual linear transformations\"*\n",
    "\n",
    "-------\n",
    "This code is modified from [https://github.com/fungtion/DANN_py3](https://github.com/fungtion/DANN_py3). "
   ]
  },
  {
   "cell_type": "code",
   "execution_count": 22,
   "id": "cd01a416",
   "metadata": {},
   "outputs": [],
   "source": [
    "import os\n",
    "import sys\n",
    "import random\n",
    "import numpy as np\n",
    "from numpy.fft import rfft2, irfft2, fftshift, ifftshift\n",
    "\n",
    "import torch.backends.cudnn as cudnn\n",
    "import torch.optim as optim\n",
    "import torch.nn as nn\n",
    "import torch.utils.data\n",
    "from torchvision import datasets\n",
    "from torchvision import transforms\n",
    "\n",
    "from components.data_loader import GetLoader\n",
    "from components.model import CNNModel\n",
    "from components.test import test\n",
    "import components.shared as sd"
   ]
  },
  {
   "cell_type": "code",
   "execution_count": 2,
   "id": "5181f24f",
   "metadata": {},
   "outputs": [],
   "source": [
    "# os.environ[\"CUDA_VISIBLE_DEVICES\"] = \"2\""
   ]
  },
  {
   "cell_type": "markdown",
   "id": "e536c281",
   "metadata": {},
   "source": [
    "### Init paths"
   ]
  },
  {
   "cell_type": "code",
   "execution_count": 3,
   "id": "b942d295",
   "metadata": {},
   "outputs": [],
   "source": [
    "# Paths to datasets\n",
    "source_dataset_name = 'MNIST'\n",
    "target_dataset_name = 'mnist_m'\n",
    "source_image_root = os.path.join('dataset', source_dataset_name)\n",
    "target_image_root = os.path.join('dataset', target_dataset_name)\n",
    "\n",
    "# Where to save outputs\n",
    "model_root = './out_ex3_cnn_da'\n",
    "os.makedirs(model_root, exist_ok=True)"
   ]
  },
  {
   "cell_type": "markdown",
   "id": "6c8b6ff8",
   "metadata": {},
   "source": [
    "### Init training"
   ]
  },
  {
   "cell_type": "code",
   "execution_count": 4,
   "id": "43ab3ddd",
   "metadata": {},
   "outputs": [
    {
     "name": "stdout",
     "output_type": "stream",
     "text": [
      "Random seed: 222\n"
     ]
    }
   ],
   "source": [
    "cuda = True\n",
    "cudnn.benchmark = True\n",
    "\n",
    "# Hyperparameters\n",
    "lr = 1e-3\n",
    "batch_size = 128\n",
    "image_size = 28\n",
    "n_epoch = 100\n",
    "\n",
    "# manual_seed = random.randint(1, 10000)\n",
    "manual_seed = 222\n",
    "random.seed(manual_seed)\n",
    "torch.manual_seed(manual_seed)\n",
    "print(f'Random seed: {manual_seed}')"
   ]
  },
  {
   "cell_type": "markdown",
   "id": "0120d001",
   "metadata": {},
   "source": [
    "### Data"
   ]
  },
  {
   "cell_type": "code",
   "execution_count": 5,
   "id": "064f90fd",
   "metadata": {},
   "outputs": [],
   "source": [
    "# Transformations / augmentations\n",
    "img_transform_source = transforms.Compose([\n",
    "    transforms.Resize(image_size),\n",
    "    transforms.ToTensor(),\n",
    "    transforms.Normalize(mean=(0.1307,), std=(0.3081,)),\n",
    "    transforms.Lambda(lambda x: x.repeat(3, 1, 1)),\n",
    "])\n",
    "\n",
    "img_transform_target = transforms.Compose([\n",
    "    transforms.Resize(image_size),\n",
    "    transforms.ToTensor(),\n",
    "    transforms.Normalize(mean=(0.5, 0.5, 0.5), std=(0.5, 0.5, 0.5))\n",
    "])\n",
    "\n",
    "# Load MNIST dataset\n",
    "dataset_source = datasets.MNIST(\n",
    "    root='dataset',\n",
    "    train=True,\n",
    "    transform=img_transform_source,\n",
    "    download=True\n",
    ")\n",
    "\n",
    "# Load MNIST-M dataset\n",
    "train_list = os.path.join(target_image_root, 'mnist_m_train_labels.txt')\n",
    "dataset_target = GetLoader(\n",
    "    data_root=os.path.join(target_image_root, 'mnist_m_train'),\n",
    "    data_list=train_list,\n",
    "    transform=img_transform_target\n",
    ")"
   ]
  },
  {
   "cell_type": "markdown",
   "id": "4b16e77f",
   "metadata": {},
   "source": [
    "# Direct Domain Adaptation (DDA)"
   ]
  },
  {
   "cell_type": "markdown",
   "id": "d35a153b",
   "metadata": {},
   "source": [
    "## Average auto-correlation\n",
    "For entire dataset"
   ]
  },
  {
   "cell_type": "code",
   "execution_count": 6,
   "id": "c4726ab1",
   "metadata": {},
   "outputs": [
    {
     "name": "stdout",
     "output_type": "stream",
     "text": [
      "Load global acorr\n"
     ]
    }
   ],
   "source": [
    "def get_global_acorr_for_loader(loader):\n",
    "    \"\"\" The average auto-correlation of all images in the dataset \"\"\"\n",
    "    global_acorr = np.zeros((3, 28, 15), dtype=np.complex128)\n",
    "    prog_bar = tqdm.tqdm(loader)\n",
    "    for data, _ in prog_bar:\n",
    "        data_f = np.fft.rfft2(data, s=data.shape[-2:], axes=(-2, -1))\n",
    "        # Auto-correlation is multiplication with the conjucate of self\n",
    "        # in frequency domain\n",
    "        global_acorr += data_f * np.conjugate(data_f)\n",
    "    global_acorr /= len(loader)\n",
    "    print(global_acorr.shape)\n",
    "    return np.fft.fftshift(global_acorr)\n",
    "\n",
    "def route_to(fname):\n",
    "    \"\"\" Shortcut for routing to the save folder \"\"\"\n",
    "    return os.path.join(model_root, fname)\n",
    "\n",
    "# Compute global acorr if not in the folder, load otherwise\n",
    "if not 'gacorr_dst_tr.npy' in os.listdir(model_root):\n",
    "    print('Save global acorr')\n",
    "    gacorr_dst_tr = get_global_acorr_for_loader(dataset_target)\n",
    "    gacorr_src_tr = get_global_acorr_for_loader(dataset_source)\n",
    "    np.save(route_to('gacorr_dst_tr.npy'), gacorr_dst_tr)\n",
    "    np.save(route_to('gacorr_src_tr.npy'), gacorr_src_tr)\n",
    "else:\n",
    "    print('Load global acorr')\n",
    "    gacorr_dst_tr = np.load(route_to('gacorr_dst_tr.npy'))\n",
    "    gacorr_src_tr = np.load(route_to('gacorr_src_tr.npy'))"
   ]
  },
  {
   "cell_type": "markdown",
   "id": "65a39ef9",
   "metadata": {},
   "source": [
    "## Average cross-correlation\n",
    "Pick a random pixel(-s) from each image in the dataset and average"
   ]
  },
  {
   "cell_type": "code",
   "execution_count": 7,
   "id": "ff54a0ee",
   "metadata": {},
   "outputs": [
    {
     "name": "stdout",
     "output_type": "stream",
     "text": [
      "Use the crop size for xcorr = 1\n"
     ]
    }
   ],
   "source": [
    "# Window size\n",
    "crop_size = 1\n",
    "print(f'Use the crop size for xcorr = {crop_size}')"
   ]
  },
  {
   "cell_type": "code",
   "execution_count": 8,
   "id": "763faf99",
   "metadata": {},
   "outputs": [],
   "source": [
    "def crop_ref(x, n=1, edge=5):\n",
    "    \"\"\"Crop a window from the image\n",
    "    Args:\n",
    "        x(np.ndarray): image [c, h, w]\n",
    "        n(int): window size\n",
    "        edge(int): margin to avoid from edges of the image\n",
    "    \"\"\"\n",
    "    if n % 2 == 0: n+=1;\n",
    "    k = int((n - 1) / 2)\n",
    "    nz, nx = x.shape[-2:]\n",
    "    dim1 = np.random.randint(0+k+edge, nz-k-edge)\n",
    "    dim2 = np.random.randint(0+k, nx-k)\n",
    "    out = x[..., dim1-k:dim1+k+1, dim2-k:dim2+k+1]\n",
    "    return out\n",
    "\n",
    "# crop_ref(np.ones((2, 100, 100)), n=5).shape"
   ]
  },
  {
   "cell_type": "code",
   "execution_count": 9,
   "id": "30e82838",
   "metadata": {},
   "outputs": [
    {
     "name": "stdout",
     "output_type": "stream",
     "text": [
      "Load global xcorr\n"
     ]
    }
   ],
   "source": [
    "def get_global_xcorr_for_loader(loader, crop_size=1):\n",
    "    # Init the placeholder for average\n",
    "    rand_pixel = np.zeros((3, crop_size, crop_size))\n",
    "    \n",
    "    # Loop over all images in the dataset\n",
    "    prog_bar = tqdm.tqdm(loader)\n",
    "    for data, _ in prog_bar:\n",
    "        rand_pixel += np.mean(crop_ref(data, crop_size).numpy(), axis=0)\n",
    "    rand_pixel /= len(loader)\n",
    "    \n",
    "    # Place the mean pixel into center of an empty image\n",
    "    c, h ,w = data.shape\n",
    "    mid_h, mid_w = int(h // 2), int(w // 2)\n",
    "    embed = np.zeros_like(data)\n",
    "    embed[..., mid_h:mid_h+1, mid_w:mid_w+1] = rand_pixel\n",
    "    global_xcorr = np.fft.rfft2(embed, s=data.shape[-2:], axes=(-2, -1))\n",
    "    return np.fft.fftshift(global_xcorr)\n",
    "\n",
    "\n",
    "# Compute global xcorr if not in the folder, load otherwise\n",
    "if not 'gxcorr_dst_tr.npy' in os.listdir(model_root):\n",
    "# if True:\n",
    "    print('Save global xcorr')\n",
    "    gxcorr_dst_tr = get_global_xcorr_for_loader(dataset_target, crop_size)\n",
    "    gxcorr_src_tr = get_global_xcorr_for_loader(dataset_source, crop_size)\n",
    "    np.save(route_to('gxcorr_dst_tr.npy'), gxcorr_dst_tr)\n",
    "    np.save(route_to('gxcorr_src_tr.npy'), gxcorr_src_tr)\n",
    "else:\n",
    "    print('Load global xcorr')\n",
    "    gxcorr_dst_tr = np.load(route_to('gxcorr_dst_tr.npy'))\n",
    "    gxcorr_src_tr = np.load(route_to('gxcorr_src_tr.npy'))"
   ]
  },
  {
   "cell_type": "markdown",
   "id": "3af19464",
   "metadata": {},
   "source": [
    "## Train Loader"
   ]
  },
  {
   "cell_type": "code",
   "execution_count": 10,
   "id": "71df37a4",
   "metadata": {},
   "outputs": [],
   "source": [
    "def flip_channels(x):\n",
    "    \"\"\"Reverse polarity of random channels\"\"\"\n",
    "    flip_matrix = np.random.choice([-1, 1], 3)[..., np.newaxis, np.newaxis] \n",
    "    return (x * flip_matrix).astype(np.float32)\n",
    "\n",
    "def shuffle_channels(x):\n",
    "    \"\"\"Change order of channels\"\"\"\n",
    "    return np.random.permutation(x)\n",
    "\n",
    "def normalize_channels(x):\n",
    "    \"\"\"Map data to [-1,1] range. The scaling after conv(xcorr, acorr) is not \n",
    "    suitable for image processing so this function fixes it\"\"\"\n",
    "    cmin = np.min(x, axis=(-2,-1))[..., np.newaxis, np.newaxis]\n",
    "    x -= cmin\n",
    "    cmax = np.max(np.abs(x), axis=(-2,-1))[..., np.newaxis, np.newaxis]\n",
    "    x /= cmax\n",
    "    x *= 2\n",
    "    x -= 1\n",
    "    return x.astype(np.float32)"
   ]
  },
  {
   "cell_type": "code",
   "execution_count": 12,
   "id": "a23c225d",
   "metadata": {},
   "outputs": [],
   "source": [
    "class DDALoaderTrain(torch.utils.data.Dataset):\n",
    "    def __init__(self, loader1, avg_acorr2, p=0.5, crop_size=1):\n",
    "        super().__init__()\n",
    "        self.loader1 = loader1\n",
    "        self.avg_acorr2 = avg_acorr2\n",
    "        self.p = p\n",
    "        self.crop_size = crop_size\n",
    "        \n",
    "    def __len__(self):\n",
    "        return len(self.loader1)\n",
    "        \n",
    "    def __getitem__(self, item):\n",
    "        # Get main data (data, label)\n",
    "        data, label = self.loader1.__getitem__(item)\n",
    "        data_fft = fftshift(rfft2(data, s=data.shape[-2:], axes=(-2, -1)))\n",
    "        \n",
    "        # Get random pixel from another data from the same dataset\n",
    "        random_index = np.random.randint(0, len(self.loader1))\n",
    "        another_data, _ = self.loader1.__getitem__(random_index)\n",
    "        rand_pixel = crop_ref(another_data, self.crop_size)\n",
    "        \n",
    "        # Convert to Fourier domain\n",
    "        c, h ,w = another_data.shape\n",
    "        mid_h, mid_w = int(h // 2), int(w // 2)\n",
    "        embed = np.zeros_like(another_data)\n",
    "        embed[:, mid_h:mid_h+1, mid_w:mid_w+1] = rand_pixel\n",
    "        pixel_fft = np.fft.rfft2(embed, s=another_data.shape[-2:], axes=(-2, -1))\n",
    "        pixel_fft = np.fft.fftshift(pixel_fft)\n",
    "            \n",
    "        # Cross-correlate the data sample with the random pixel from the same dataset\n",
    "        xcorr = data_fft * np.conjugate(pixel_fft)\n",
    "\n",
    "        # Convolve the ruslt with the auto-correlation of another dataset\n",
    "        conv = xcorr * self.avg_acorr2\n",
    "\n",
    "        # Reverse Fourier domain and map channels to [-1, 1] range\n",
    "        data_da = fftshift(irfft2(ifftshift(conv), axes=(-2, -1)))\n",
    "        data_da = normalize_channels(data_da)\n",
    "        \n",
    "        # Apply data augmentations\n",
    "        if np.random.rand() < self.p:\n",
    "            data_da = flip_channels(data_da)\n",
    "        if np.random.rand() < self.p:\n",
    "            data_da = shuffle_channels(data_da)\n",
    "            \n",
    "        # Return a pair of data / label\n",
    "        return data_da.astype(np.float32), label"
   ]
  },
  {
   "cell_type": "code",
   "execution_count": 17,
   "id": "31e4a991",
   "metadata": {},
   "outputs": [
    {
     "name": "stdout",
     "output_type": "stream",
     "text": [
      "Image shape: (3, 28, 28)\t Label: 5\n"
     ]
    }
   ],
   "source": [
    "dataset_source = DDALoaderTrain(dataset_source, gacorr_dst_tr)\n",
    "dataset_target = DDALoaderTrain(dataset_target, gacorr_src_tr)\n",
    "\n",
    "dummy_data, dummy_label = dataset_source.__getitem__(0)\n",
    "print('Image shape: {}\\t Label: {}'.format(dummy_data.shape, dummy_label))"
   ]
  },
  {
   "cell_type": "markdown",
   "id": "f79bc126",
   "metadata": {},
   "source": [
    "# Test Loader"
   ]
  },
  {
   "cell_type": "code",
   "execution_count": 18,
   "id": "f8cf6b8d",
   "metadata": {},
   "outputs": [],
   "source": [
    "class DDALoaderTest(torch.utils.data.Dataset):\n",
    "    def __init__(self, loader1, avg_acorr2, avg_xcorr1):\n",
    "        super().__init__()\n",
    "        self.loader1 = loader1\n",
    "        self.avg_acorr2 = avg_acorr2\n",
    "        self.avg_xcorr1 = avg_xcorr1\n",
    "        \n",
    "    def __len__(self):\n",
    "        return len(self.loader1)\n",
    "        \n",
    "    def __getitem__(self, item):\n",
    "        data, label = self.loader1.__getitem__(item)\n",
    "        data_fft = fftshift(rfft2(data, s=data.shape[-2:], axes=(-2, -1)))\n",
    "        \n",
    "        xcorr = data_fft * np.conjugate(self.avg_xcorr1)\n",
    "        conv = xcorr * self.avg_acorr2\n",
    "\n",
    "        data_da = fftshift(irfft2(ifftshift(conv), axes=(-2, -1)))\n",
    "        data_da = normalize_channels(data_da)\n",
    "        return data_da.astype(np.float32), label"
   ]
  },
  {
   "cell_type": "markdown",
   "id": "7c3357bd",
   "metadata": {},
   "source": [
    "Re-define the test function so it accounts for the average cross-correlation and auto-correlation from source and target datasets"
   ]
  },
  {
   "cell_type": "code",
   "execution_count": 19,
   "id": "2f64cac5",
   "metadata": {},
   "outputs": [],
   "source": [
    "def test(dataset_name, model_root, crop_size=1):\n",
    "    image_root = os.path.join('dataset', dataset_name)  \n",
    "    if dataset_name == 'mnist_m':\n",
    "        test_list = os.path.join(image_root, 'mnist_m_test_labels.txt')\n",
    "        dataset = GetLoader(\n",
    "            data_root=os.path.join(image_root, 'mnist_m_test'),\n",
    "            data_list=test_list,\n",
    "            transform=img_transform_target\n",
    "        )\n",
    "        \n",
    "        if not 'gxcorr_dst_te.npy' in os.listdir(model_root):\n",
    "            print('Save global acorr and xcorr')\n",
    "            # acorr\n",
    "            gacorr_src_te = get_global_acorr_for_loader(dataset)\n",
    "            np.save(route_to('gacorr_src_te.npy'), gacorr_src_te)\n",
    "            # xcorr\n",
    "            gxcorr_dst_te = get_global_xcorr_for_loader(dataset, crop_size)\n",
    "            np.save(route_to('gxcorr_dst_te.npy'), gxcorr_dst_te)\n",
    "        else:\n",
    "            gacorr_src_te = np.load(route_to('gacorr_src_te.npy'))\n",
    "            gxcorr_dst_te = np.load(route_to('gxcorr_dst_te.npy'))\n",
    "            \n",
    "        # Init loader for MNIST-M\n",
    "        dataset = DDALoaderTest(dataset, gacorr_src_te, gxcorr_dst_te)\n",
    "    else:\n",
    "        dataset = datasets.MNIST(\n",
    "            root='dataset',\n",
    "            train=False,\n",
    "            transform=img_transform_source,\n",
    "        )\n",
    "        if not 'gxcorr_src_te.npy' in os.listdir(model_root):\n",
    "            print('Save global acorr and xcorr')\n",
    "            # acorr\n",
    "            gacorr_dst_te = get_global_acorr_for_loader(dataset)\n",
    "            np.save(route_to('gacorr_dst_te.npy'), gacorr_dst_te)\n",
    "            # xcorr\n",
    "            gxcorr_src_te = get_global_xcorr_for_loader(dataset, crop_size)\n",
    "            np.save(route_to('gxcorr_src_te.npy'), gxcorr_src_te)\n",
    "        else:\n",
    "            gacorr_dst_te = np.load(route_to('gacorr_dst_te.npy'))\n",
    "            gxcorr_src_te = np.load(route_to('gxcorr_src_te.npy'))\n",
    "            \n",
    "        # Init loader for MNIST\n",
    "        dataset = DDALoaderTest(dataset, gacorr_dst_te, gxcorr_src_te)\n",
    "\n",
    "    dataloader = torch.utils.data.DataLoader(\n",
    "        dataset=dataset,\n",
    "        batch_size=batch_size,\n",
    "        shuffle=False,\n",
    "        num_workers=8\n",
    "    )\n",
    "\n",
    "    \"\"\" test \"\"\"\n",
    "    my_net = torch.load(os.path.join(model_root, 'mnist_mnistm_model_epoch_current.pth'))\n",
    "    my_net = my_net.eval()\n",
    "\n",
    "    if cuda:\n",
    "        my_net = my_net.cuda()\n",
    "\n",
    "    len_dataloader = len(dataloader)\n",
    "    data_target_iter = iter(dataloader)\n",
    "\n",
    "    i = 0\n",
    "    n_total = 0\n",
    "    n_correct = 0\n",
    "\n",
    "    while i < len_dataloader:\n",
    "        # test model using target data\n",
    "        data_target = data_target_iter.next()\n",
    "        t_img, t_label = data_target\n",
    "\n",
    "        _batch_size = len(t_label)\n",
    "\n",
    "        if cuda:\n",
    "            t_img = t_img.cuda()\n",
    "            t_label = t_label.cuda()\n",
    "\n",
    "        class_output, _ = my_net(input_data=t_img, alpha=0)\n",
    "        pred = class_output.data.max(1, keepdim=True)[1]\n",
    "        n_correct += pred.eq(t_label.data.view_as(pred)).cpu().sum()\n",
    "        n_total += _batch_size\n",
    "        i += 1\n",
    "\n",
    "    accu = n_correct.data.numpy() * 1.0 / n_total\n",
    "    return accu"
   ]
  },
  {
   "cell_type": "markdown",
   "id": "57efef4f",
   "metadata": {},
   "source": [
    "# Training"
   ]
  },
  {
   "cell_type": "code",
   "execution_count": 20,
   "id": "60c6f828",
   "metadata": {},
   "outputs": [],
   "source": [
    "dataloader_source = torch.utils.data.DataLoader(\n",
    "    dataset=dataset_source,\n",
    "    batch_size=batch_size,\n",
    "    shuffle=True,\n",
    "    num_workers=8)\n",
    "\n",
    "dataloader_target = torch.utils.data.DataLoader(\n",
    "    dataset=dataset_target,\n",
    "    batch_size=batch_size,\n",
    "    shuffle=True,\n",
    "    num_workers=8)"
   ]
  },
  {
   "cell_type": "code",
   "execution_count": 23,
   "id": "537ff640",
   "metadata": {},
   "outputs": [],
   "source": [
    "class CNNModel(nn.Module):\n",
    "    def __init__(self):\n",
    "        super(CNNModel, self).__init__()\n",
    "        self.feature = nn.Sequential()\n",
    "        self.feature.add_module('f_conv1', nn.Conv2d(3, 64, kernel_size=5))\n",
    "        self.feature.add_module('f_bn1', nn.BatchNorm2d(64))\n",
    "        self.feature.add_module('f_pool1', nn.MaxPool2d(2))\n",
    "        self.feature.add_module('f_relu1', nn.ReLU(True))\n",
    "        self.feature.add_module('f_conv2', nn.Conv2d(64, 50, kernel_size=5))\n",
    "        self.feature.add_module('f_bn2', nn.BatchNorm2d(50))\n",
    "        self.feature.add_module('f_drop1', nn.Dropout2d())\n",
    "        self.feature.add_module('f_pool2', nn.MaxPool2d(2))\n",
    "        self.feature.add_module('f_relu2', nn.ReLU(True))\n",
    "\n",
    "        self.class_classifier = nn.Sequential()\n",
    "        self.class_classifier.add_module('c_fc1', nn.Linear(50 * 4 * 4, 100))\n",
    "        self.class_classifier.add_module('c_bn1', nn.BatchNorm1d(100))\n",
    "        self.class_classifier.add_module('c_relu1', nn.ReLU(True))\n",
    "        self.class_classifier.add_module('c_drop1', nn.Dropout())\n",
    "        self.class_classifier.add_module('c_fc2', nn.Linear(100, 100))\n",
    "        self.class_classifier.add_module('c_bn2', nn.BatchNorm1d(100))\n",
    "        self.class_classifier.add_module('c_relu2', nn.ReLU(True))\n",
    "        self.class_classifier.add_module('c_fc3', nn.Linear(100, 10))\n",
    "        self.class_classifier.add_module('c_softmax', nn.LogSoftmax(dim=1))\n",
    "\n",
    "    def forward(self, input_data, alpha):\n",
    "        input_data = input_data.expand(input_data.data.shape[0], 3, 28, 28)\n",
    "        feature = self.feature(input_data)\n",
    "        feature = feature.view(-1, 50 * 4 * 4)\n",
    "\n",
    "        class_output = self.class_classifier(feature)\n",
    "\n",
    "        return class_output, 0"
   ]
  },
  {
   "cell_type": "code",
   "execution_count": 24,
   "id": "eb1ce3c8",
   "metadata": {},
   "outputs": [],
   "source": [
    "# load model\n",
    "my_net = CNNModel()\n",
    "\n",
    "# setup optimizer\n",
    "optimizer = optim.Adam(my_net.parameters(), lr=lr)\n",
    "\n",
    "loss_class = torch.nn.NLLLoss()\n",
    "\n",
    "if cuda:\n",
    "    my_net = my_net.cuda()\n",
    "    loss_class = loss_class.cuda()\n",
    "\n",
    "for p in my_net.parameters():\n",
    "    p.requires_grad = True"
   ]
  },
  {
   "cell_type": "code",
   "execution_count": 25,
   "id": "cf9f79b7",
   "metadata": {},
   "outputs": [],
   "source": [
    "# Record losses for each epoch (used in compare.ipynb)\n",
    "losses = {'test': {'acc_bw': [], 'acc_color': []}}\n",
    "name_losses = 'losses.pkl'"
   ]
  },
  {
   "cell_type": "code",
   "execution_count": 26,
   "id": "1978205a",
   "metadata": {},
   "outputs": [
    {
     "name": "stdout",
     "output_type": "stream",
     "text": [
      "Losses from previous run found!\n",
      "Load dict from ./out_ex3_cnn_da/losses.pkl\n"
     ]
    },
    {
     "data": {
      "image/png": "[encoded data removed]",
      "text/plain": [
       "<Figure size 360x360 with 1 Axes>"
      ]
     },
     "metadata": {
      "needs_background": "light"
     },
     "output_type": "display_data"
    }
   ],
   "source": [
    "if not name_losses in os.listdir(model_root):\n",
    "# if True:\n",
    "    # training\n",
    "    best_accu_t = 0.0\n",
    "    for epoch in range(n_epoch):\n",
    "\n",
    "        len_dataloader = min(len(dataloader_source), len(dataloader_target))\n",
    "        data_source_iter = iter(dataloader_source)\n",
    "        data_target_iter = iter(dataloader_target)\n",
    "\n",
    "        for i in range(len_dataloader):\n",
    "\n",
    "            p = float(i + epoch * len_dataloader) / n_epoch / len_dataloader\n",
    "            alpha = 2. / (1. + np.exp(-10 * p)) - 1\n",
    "\n",
    "            # training model using source data\n",
    "            data_source = data_source_iter.next()\n",
    "            s_img, s_label = data_source\n",
    "\n",
    "            my_net.zero_grad()\n",
    "            batch_size = len(s_label)\n",
    "\n",
    "            if cuda:\n",
    "                s_img = s_img.cuda()\n",
    "                s_label = s_label.cuda()\n",
    "\n",
    "            class_output, _ = my_net(input_data=s_img, alpha=alpha)\n",
    "            err_s_label = loss_class(class_output, s_label)\n",
    "\n",
    "            err = err_s_label\n",
    "            err.backward()\n",
    "            optimizer.step()\n",
    "\n",
    "            sys.stdout.write('\\r epoch: %d, [iter: %d / all %d], err_s_label: %f' \\\n",
    "                  % (epoch, i + 1, len_dataloader, err_s_label.data.cpu().numpy()))\n",
    "            sys.stdout.flush()\n",
    "            torch.save(my_net, '{0}/mnist_mnistm_model_epoch_current.pth'.format(model_root))\n",
    "\n",
    "        print('\\n')\n",
    "        accu_s = test(source_dataset_name, model_root)\n",
    "        print('Accuracy of the %s dataset: %f' % ('mnist', accu_s))\n",
    "        accu_t = test(target_dataset_name, model_root)\n",
    "        print('Accuracy of the %s dataset: %f\\n' % ('mnist_m', accu_t))\n",
    "\n",
    "        losses['test']['acc_bw'].append(accu_s)\n",
    "        losses['test']['acc_color'].append(accu_t)\n",
    "\n",
    "        if accu_t > best_accu_t:\n",
    "            best_accu_s = accu_s\n",
    "            best_accu_t = accu_t\n",
    "            torch.save(my_net, '{0}/mnist_mnistm_model_epoch_best.pth'.format(model_root))\n",
    "\n",
    "    print('============ Summary ============= \\n')\n",
    "    print('Accuracy of the %s dataset: %f' % ('mnist', best_accu_s))\n",
    "    print('Accuracy of the %s dataset: %f' % ('mnist_m', best_accu_t))\n",
    "    print('Corresponding model was save in ' + model_root + '/mnist_mnistm_model_epoch_best.pth')\n",
    "    sd.save_dict(os.path.join(model_root, 'losses.pkl'), losses)\n",
    "else:\n",
    "    path_losses = os.path.join(model_root, name_losses)\n",
    "    print(f'Losses from previous run found!')\n",
    "    losses = sd.load_dict(path_losses)\n",
    "    sd.plot_curves(losses)"
   ]
  },
  {
   "cell_type": "code",
   "execution_count": 27,
   "id": "01148fd5",
   "metadata": {},
   "outputs": [
    {
     "name": "stdout",
     "output_type": "stream",
     "text": [
      "============ Summary ============= \n",
      "\n",
      "Accuracy of the mnist dataset: 0.990200\n",
      "Accuracy of the mnist_m dataset: 0.734141\n",
      "Corresponding model was saved into ./out_ex3_cnn_da/mnist_mnistm_model_epoch_best.pth\n"
     ]
    }
   ],
   "source": [
    "print('============ Summary ============= \\n')\n",
    "print('Accuracy of the %s dataset: %f' % ('mnist', max(losses['test']['acc_bw'])))\n",
    "print('Accuracy of the %s dataset: %f' % ('mnist_m', max(losses['test']['acc_color'])))\n",
    "print('Corresponding model was saved into ' + model_root + '/mnist_mnistm_model_epoch_best.pth')"
   ]
  }
 ],
 "metadata": {
  "kernelspec": {
   "display_name": "Python 3",
   "language": "python",
   "name": "python3"
  },
  "language_info": {
   "codemirror_mode": {
    "name": "ipython",
    "version": 3
   },
   "file_extension": ".py",
   "mimetype": "text/x-python",
   "name": "python",
   "nbconvert_exporter": "python",
   "pygments_lexer": "ipython3",
   "version": "3.8.3"
  }
 },
 "nbformat": 4,
 "nbformat_minor": 5
}
