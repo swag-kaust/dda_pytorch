{
 "cells": [
  {
   "cell_type": "markdown",
   "id": "41b71dd1",
   "metadata": {},
   "source": [
    "# Example 1. DANN\n",
    "This notebook reproduces the experiment from [Unsupervised Domain Adaptation by Backpropagation](https://arxiv.org/abs/1409.7495). We then use it as a GAN-powered benchmark of domain adaptation for **MNIST** --> **MNIST-M** datasets.\n",
    "\n",
    "*[Tariq Alkhalifah](https://sites.google.com/a/kaust.edu.sa/tariq/home) and [Oleg Ovcharenko](https://ovcharenkoo.com/), 2021. \"Direct domain adaptation through mutual linear transformations\"*\n",
    "\n",
    "-------\n",
    "This code is modified from [https://github.com/fungtion/DANN_py3](https://github.com/fungtion/DANN_py3). "
   ]
  },
  {
   "cell_type": "code",
   "execution_count": 2,
   "id": "d7c870d3",
   "metadata": {},
   "outputs": [],
   "source": [
    "import os\n",
    "import sys\n",
    "import random\n",
    "import numpy as np\n",
    "\n",
    "import torch.backends.cudnn as cudnn\n",
    "import torch.optim as optim\n",
    "import torch.utils.data\n",
    "from torchvision import datasets\n",
    "from torchvision import transforms\n",
    "\n",
    "from components.data_loader import GetLoader\n",
    "from components.model import CNNModel\n",
    "from components.test import test\n",
    "import components.shared as sd"
   ]
  },
  {
   "cell_type": "code",
   "execution_count": 3,
   "id": "8b2c40b7",
   "metadata": {},
   "outputs": [],
   "source": [
    "# os.environ[\"CUDA_VISIBLE_DEVICES\"] = \"0\""
   ]
  },
  {
   "cell_type": "markdown",
   "id": "d0026e9c",
   "metadata": {},
   "source": [
    "### Init paths"
   ]
  },
  {
   "cell_type": "code",
   "execution_count": 4,
   "id": "212fae73",
   "metadata": {},
   "outputs": [],
   "source": [
    "# Paths to datasets\n",
    "source_dataset_name = 'MNIST'\n",
    "target_dataset_name = 'mnist_m'\n",
    "source_image_root = os.path.join('dataset', source_dataset_name)\n",
    "target_image_root = os.path.join('dataset', target_dataset_name)\n",
    "os.makedirs('./dataset', exist_ok=True)\n",
    "\n",
    "# Where to save outputs\n",
    "model_root = './out_ex1_dann'\n",
    "os.makedirs(model_root, exist_ok=True)"
   ]
  },
  {
   "cell_type": "markdown",
   "id": "e95a42a0",
   "metadata": {},
   "source": [
    "### Init training"
   ]
  },
  {
   "cell_type": "code",
   "execution_count": 5,
   "id": "fab5d6f0",
   "metadata": {},
   "outputs": [
    {
     "name": "stdout",
     "output_type": "stream",
     "text": [
      "Random seed: 222\n"
     ]
    }
   ],
   "source": [
    "cuda = True\n",
    "cudnn.benchmark = True\n",
    "\n",
    "# Hyperparameters\n",
    "lr = 1e-3\n",
    "batch_size = 128\n",
    "image_size = 28\n",
    "n_epoch = 100\n",
    "\n",
    "# manual_seed = random.randint(1, 10000)\n",
    "manual_seed = 222\n",
    "random.seed(manual_seed)\n",
    "torch.manual_seed(manual_seed)\n",
    "print(f'Random seed: {manual_seed}')"
   ]
  },
  {
   "cell_type": "markdown",
   "id": "c623477c",
   "metadata": {},
   "source": [
    "### Data"
   ]
  },
  {
   "cell_type": "code",
   "execution_count": 6,
   "id": "13ef26e9",
   "metadata": {},
   "outputs": [],
   "source": [
    "# Transformations / augmentations\n",
    "img_transform_source = transforms.Compose([\n",
    "    transforms.Resize(image_size),\n",
    "    transforms.ToTensor(),\n",
    "    transforms.Normalize(mean=(0.1307,), std=(0.3081,))\n",
    "])\n",
    "\n",
    "img_transform_target = transforms.Compose([\n",
    "    transforms.Resize(image_size),\n",
    "    transforms.ToTensor(),\n",
    "    transforms.Normalize(mean=(0.5, 0.5, 0.5), std=(0.5, 0.5, 0.5))\n",
    "])\n",
    "\n",
    "# Load MNIST dataset\n",
    "dataset_source = datasets.MNIST(\n",
    "    root='dataset',\n",
    "    train=True,\n",
    "    transform=img_transform_source,\n",
    "    download=True\n",
    ")\n",
    "\n",
    "# Load MNIST-M dataset\n",
    "train_list = os.path.join(target_image_root, 'mnist_m_train_labels.txt')\n",
    "dataset_target = GetLoader(\n",
    "    data_root=os.path.join(target_image_root, 'mnist_m_train'),\n",
    "    data_list=train_list,\n",
    "    transform=img_transform_target\n",
    ")\n",
    "\n",
    "# Init dataloaders\n",
    "dataloader_source = torch.utils.data.DataLoader(\n",
    "    dataset=dataset_source,\n",
    "    batch_size=batch_size,\n",
    "    shuffle=True,\n",
    "    num_workers=8)\n",
    "\n",
    "dataloader_target = torch.utils.data.DataLoader(\n",
    "    dataset=dataset_target,\n",
    "    batch_size=batch_size,\n",
    "    shuffle=True,\n",
    "    num_workers=8)"
   ]
  },
  {
   "cell_type": "markdown",
   "id": "9f8bd805",
   "metadata": {},
   "source": [
    "### Network"
   ]
  },
  {
   "cell_type": "code",
   "execution_count": 7,
   "id": "8e56ea88",
   "metadata": {},
   "outputs": [],
   "source": [
    "# Init network\n",
    "my_net = CNNModel()\n",
    "\n",
    "# Optimizer\n",
    "optimizer = optim.Adam(my_net.parameters(), lr=lr)\n",
    "\n",
    "# Losses\n",
    "loss_class = torch.nn.NLLLoss()\n",
    "loss_domain = torch.nn.NLLLoss()\n",
    "\n",
    "if cuda:\n",
    "    my_net = my_net.cuda()\n",
    "    loss_class = loss_class.cuda()\n",
    "    loss_domain = loss_domain.cuda()\n",
    "\n",
    "for p in my_net.parameters():\n",
    "    p.requires_grad = True"
   ]
  },
  {
   "cell_type": "code",
   "execution_count": 8,
   "id": "d7f908ca",
   "metadata": {},
   "outputs": [],
   "source": [
    "# Record losses for each epoch (used in compare.ipynb)\n",
    "losses = {'test': {'acc_bw': [], 'acc_color': []}}\n",
    "name_losses = 'losses.pkl'"
   ]
  },
  {
   "cell_type": "markdown",
   "id": "ac101c59",
   "metadata": {},
   "source": [
    "### Training"
   ]
  },
  {
   "cell_type": "code",
   "execution_count": 9,
   "id": "6ca13093",
   "metadata": {},
   "outputs": [
    {
     "name": "stdout",
     "output_type": "stream",
     "text": [
      "Losses from previous run found!\n",
      "Load dict from ./out_ex1_dann/losses.pkl\n"
     ]
    },
    {
     "data": {
      "image/png": "[encoded data removed]",
      "text/plain": [
       "<Figure size 360x360 with 1 Axes>"
      ]
     },
     "metadata": {
      "needs_background": "light"
     },
     "output_type": "display_data"
    }
   ],
   "source": [
    "# training\n",
    "if not name_losses in os.listdir(model_root):\n",
    "# if True:\n",
    "    best_accu_t = 0.0\n",
    "    for epoch in range(n_epoch):\n",
    "\n",
    "        len_dataloader = min(len(dataloader_source), len(dataloader_target))\n",
    "        data_source_iter = iter(dataloader_source)\n",
    "        data_target_iter = iter(dataloader_target)\n",
    "\n",
    "        for i in range(len_dataloader):\n",
    "\n",
    "            p = float(i + epoch * len_dataloader) / n_epoch / len_dataloader\n",
    "            alpha = 2. / (1. + np.exp(-10 * p)) - 1\n",
    "\n",
    "            # training model using source data\n",
    "            data_source = data_source_iter.next()\n",
    "            s_img, s_label = data_source\n",
    "\n",
    "            my_net.zero_grad()\n",
    "            batch_size = len(s_label)\n",
    "\n",
    "            domain_label = torch.zeros(batch_size).long()\n",
    "\n",
    "            if cuda:\n",
    "                s_img = s_img.cuda()\n",
    "                s_label = s_label.cuda()\n",
    "                domain_label = domain_label.cuda()\n",
    "\n",
    "\n",
    "            class_output, domain_output = my_net(input_data=s_img, alpha=alpha)\n",
    "            err_s_label = loss_class(class_output, s_label)\n",
    "            err_s_domain = loss_domain(domain_output, domain_label)\n",
    "\n",
    "            # training model using target data\n",
    "            data_target = data_target_iter.next()\n",
    "            t_img, _ = data_target\n",
    "\n",
    "            batch_size = len(t_img)\n",
    "\n",
    "            domain_label = torch.ones(batch_size).long()\n",
    "\n",
    "            if cuda:\n",
    "                t_img = t_img.cuda()\n",
    "                domain_label = domain_label.cuda()\n",
    "\n",
    "            _, domain_output = my_net(input_data=t_img, alpha=alpha)\n",
    "            err_t_domain = loss_domain(domain_output, domain_label)\n",
    "            err = err_t_domain + err_s_domain + err_s_label\n",
    "            err.backward()\n",
    "            optimizer.step()\n",
    "\n",
    "            sys.stdout.write('\\r epoch: %d, [iter: %d / all %d], err_s_label: %f, err_s_domain: %f, err_t_domain: %f' \\\n",
    "                  % (epoch, i + 1, len_dataloader, err_s_label.data.cpu().numpy(),\n",
    "                     err_s_domain.data.cpu().numpy(), err_t_domain.data.cpu().item()))\n",
    "            sys.stdout.flush()\n",
    "            torch.save(my_net, '{0}/mnist_mnistm_model_epoch_current.pth'.format(model_root))\n",
    "\n",
    "        print('\\n')\n",
    "        accu_s = test(source_dataset_name, model_root)\n",
    "        print('Accuracy of the %s dataset: %f' % ('mnist', accu_s))\n",
    "        accu_t = test(target_dataset_name, model_root)\n",
    "        print('Accuracy of the %s dataset: %f\\n' % ('mnist_m', accu_t))\n",
    "        \n",
    "        losses['test']['acc_bw'].append(accu_s)\n",
    "        losses['test']['acc_color'].append(accu_t)\n",
    "        \n",
    "        if accu_t > best_accu_t:\n",
    "            best_accu_s = accu_s\n",
    "            best_accu_t = accu_t\n",
    "            torch.save(my_net, '{0}/mnist_mnistm_model_epoch_best.pth'.format(model_root))\n",
    "\n",
    "    print('============ Summary ============= \\n')\n",
    "    print('Accuracy of the %s dataset: %f' % ('mnist', best_accu_s))\n",
    "    print('Accuracy of the %s dataset: %f' % ('mnist_m', best_accu_t))\n",
    "    print('Corresponding model was save in ' + model_root + '/mnist_mnistm_model_epoch_best.pth')\n",
    "    sd.save_dict(os.path.join(model_root, 'losses.pkl'), losses)\n",
    "else:\n",
    "    path_losses = os.path.join(model_root, name_losses)\n",
    "    print(f'Losses from previous run found!')\n",
    "    losses = sd.load_dict(path_losses)\n",
    "    sd.plot_curves(losses)"
   ]
  },
  {
   "cell_type": "code",
   "execution_count": 13,
   "id": "eceb8116",
   "metadata": {},
   "outputs": [
    {
     "name": "stdout",
     "output_type": "stream",
     "text": [
      "============ Summary ============= \n",
      "\n",
      "Accuracy of the mnist dataset: 0.988200\n",
      "Accuracy of the mnist_m dataset: 0.911232\n",
      "Corresponding model was saved into ./out_ex1_dann/mnist_mnistm_model_epoch_best.pth\n"
     ]
    }
   ],
   "source": [
    "print('============ Summary ============= \\n')\n",
    "print('Accuracy of the %s dataset: %f' % ('mnist', max(losses['test']['acc_bw'])))\n",
    "print('Accuracy of the %s dataset: %f' % ('mnist_m', max(losses['test']['acc_color'])))\n",
    "print('Corresponding model was saved into ' + model_root + '/mnist_mnistm_model_epoch_best.pth')"
   ]
  }
 ],
 "metadata": {
  "kernelspec": {
   "display_name": "Python 3",
   "language": "python",
   "name": "python3"
  },
  "language_info": {
   "codemirror_mode": {
    "name": "ipython",
    "version": 3
   },
   "file_extension": ".py",
   "mimetype": "text/x-python",
   "name": "python",
   "nbconvert_exporter": "python",
   "pygments_lexer": "ipython3",
   "version": "3.8.3"
  }
 },
 "nbformat": 4,
 "nbformat_minor": 5
}
